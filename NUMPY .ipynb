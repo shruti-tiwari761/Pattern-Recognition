{
 "cells": [
  {
   "cell_type": "markdown",
   "id": "34825667-ee6b-4e08-8860-95ac48e051eb",
   "metadata": {},
   "source": [
    "Importing Numpy Library:"
   ]
  },
  {
   "cell_type": "code",
   "execution_count": 1,
   "id": "beb01607-5aa3-4a97-8a1b-402e20a0acd4",
   "metadata": {},
   "outputs": [
    {
     "name": "stdout",
     "output_type": "stream",
     "text": [
      "[1 2 3 4]\n",
      "<class 'numpy.ndarray'>\n",
      "3068666984656\n"
     ]
    }
   ],
   "source": [
    "import numpy as np\n",
    "a=np.array([1,2,3,4])\n",
    "print(a)\n",
    "print(type(a))\n",
    "print(id(a))"
   ]
  },
  {
   "cell_type": "code",
   "execution_count": 3,
   "id": "141d301e-6495-41fa-a8ef-469474687d61",
   "metadata": {},
   "outputs": [
    {
     "data": {
      "text/plain": [
       "1"
      ]
     },
     "execution_count": 3,
     "metadata": {},
     "output_type": "execute_result"
    }
   ],
   "source": [
    "a.ndim"
   ]
  },
  {
   "cell_type": "raw",
   "id": "64f72aa3-9f2a-4317-bf44-46383b7f669a",
   "metadata": {},
   "source": [
    "Multi-Dimensional Array:"
   ]
  },
  {
   "cell_type": "code",
   "execution_count": 5,
   "id": "824c7cf3-4f5e-4676-9579-1ea9921a1e7c",
   "metadata": {},
   "outputs": [
    {
     "name": "stdout",
     "output_type": "stream",
     "text": [
      "[[1 2 3 4]\n",
      " [5 6 7 8]\n",
      " [0 1 3 4]]\n",
      "<class 'numpy.ndarray'>\n",
      "3068706246064\n",
      "2\n"
     ]
    }
   ],
   "source": [
    "arr=np.array([[1,2,3,4],[5,6,7,8],[0,1,3,4]])\n",
    "print(arr)\n",
    "print(type(arr))\n",
    "print(id(arr))\n",
    "print(arr.ndim)"
   ]
  },
  {
   "cell_type": "code",
   "execution_count": 7,
   "id": "6dab849d-a10c-4999-952a-33e995537417",
   "metadata": {},
   "outputs": [
    {
     "name": "stdout",
     "output_type": "stream",
     "text": [
      "[[[  1   2   3   4]\n",
      "  [ 11  33 456  78]]\n",
      "\n",
      " [[ 12  56  34  78]\n",
      "  [ 56  78  34  56]]]\n",
      "Size of Arrm :  16\n"
     ]
    }
   ],
   "source": [
    "arrm=np.array([[[1,2,3,4],[11,33,456,78]],[[12,56,34,78],[56,78,34,56]]])\n",
    "print(arrm)\n",
    "print(\"Size of Arrm : \",arrm.size)"
   ]
  },
  {
   "cell_type": "code",
   "execution_count": 9,
   "id": "84ecc10c-2558-407a-a41f-5ff1bf0c2dc4",
   "metadata": {},
   "outputs": [
    {
     "name": "stdout",
     "output_type": "stream",
     "text": [
      "[[[1 1 1]\n",
      "  [2 2 2]\n",
      "  [3 3 3]\n",
      "  [1 2 3]]\n",
      "\n",
      " [[1 2 3]\n",
      "  [7 9 8]\n",
      "  [4 5 6]\n",
      "  [7 8 9]]]\n",
      "Size of Arrm :  24\n",
      "Type: <class 'numpy.ndarray'>\n",
      "Id:  3068706245968\n",
      "(2, 4, 3)\n",
      "int32\n"
     ]
    }
   ],
   "source": [
    "arr=np.array([[[1,1,1],[2,2,2],[3,3,3],[1,2,3]],[[1,2,3],[7,9,8],[4,5,6],[7,8,9]]])\n",
    "print(arr)\n",
    "print(\"Size of Arrm : \",arr.size)\n",
    "print(\"Type:\",type(arr))\n",
    "print(\"Id: \",id(arr))\n",
    "print(arr.shape)\n",
    "print(arr.dtype)"
   ]
  },
  {
   "cell_type": "markdown",
   "id": "16b30929-25b7-4ac2-a963-f3f61e215d39",
   "metadata": {},
   "source": [
    "Traversal through index"
   ]
  },
  {
   "cell_type": "code",
   "execution_count": 11,
   "id": "fb141095-25ee-43f5-8ca3-6bcc14e6adb1",
   "metadata": {},
   "outputs": [
    {
     "name": "stdout",
     "output_type": "stream",
     "text": [
      "[1 2 3 4]\n",
      "1\n",
      "2\n",
      "4\n"
     ]
    }
   ],
   "source": [
    "import numpy as np\n",
    "a=np.array([1,2,3,4])\n",
    "print(a)\n",
    "print(a[0])\n",
    "print(a[1])\n",
    "print(a[-1])"
   ]
  },
  {
   "cell_type": "code",
   "execution_count": 13,
   "id": "a193f743-b166-411f-842c-9c05c553d959",
   "metadata": {},
   "outputs": [
    {
     "name": "stdout",
     "output_type": "stream",
     "text": [
      "[1 2]\n",
      "4\n",
      "16\n"
     ]
    }
   ],
   "source": [
    "#Sclicing in array\n",
    "import numpy as np\n",
    "a=np.array([1,2,3,4])\n",
    "print(a[0:2])\n",
    "print(a.itemsize)\n",
    "print(a.nbytes)"
   ]
  },
  {
   "cell_type": "code",
   "execution_count": 21,
   "id": "2e46b2c4-bc48-48d4-85bf-8dd1985d7a8e",
   "metadata": {},
   "outputs": [
    {
     "name": "stdout",
     "output_type": "stream",
     "text": [
      "8\n",
      "6\n",
      "[1 2 3 4]\n",
      "[1 2 3 4]\n",
      "[2 6]\n",
      "[1 5]\n",
      "[3 7]\n"
     ]
    }
   ],
   "source": [
    "a=np.array([[1,2,3,4],[5,6,7,8]])\n",
    "print(a[1,3])\n",
    "print(a[1,1])\n",
    "print(a[0,])\n",
    "print(a[0,:])\n",
    "print(a[:,1])\n",
    "print(a[:,0])\n",
    "print(a[:,2])"
   ]
  },
  {
   "cell_type": "markdown",
   "id": "f64c037c-b640-4b70-b222-0cd0a0f43717",
   "metadata": {},
   "source": [
    "datatype of array:"
   ]
  },
  {
   "cell_type": "code",
   "execution_count": 19,
   "id": "6a9479c6-6b22-49a0-ae8d-6045ebb2b801",
   "metadata": {},
   "outputs": [
    {
     "name": "stdout",
     "output_type": "stream",
     "text": [
      "[1.2 3.5 5.6]\n",
      "float64\n",
      "8\n",
      "24\n"
     ]
    }
   ],
   "source": [
    "a=np.array([1.2,3.5,5.6])\n",
    "print(a)\n",
    "print(a.dtype)\n",
    "print(a.itemsize)\n",
    "print(a.nbytes)"
   ]
  },
  {
   "cell_type": "code",
   "execution_count": 17,
   "id": "8d127047-7b81-498e-aec6-b9f305780384",
   "metadata": {},
   "outputs": [
    {
     "name": "stdout",
     "output_type": "stream",
     "text": [
      "[12. +3.j  3.5+6.j  5.6+8.j]\n",
      "complex128\n",
      "16\n",
      "48\n"
     ]
    }
   ],
   "source": [
    "a=np.array([12+3j,3.5+6j,5.6+8j])\n",
    "print(a)\n",
    "print(a.dtype)\n",
    "print(a.itemsize)\n",
    "print(a.nbytes)"
   ]
  },
  {
   "cell_type": "code",
   "execution_count": null,
   "id": "fa38e3e1-a937-4aa1-8a82-0a7b874d1551",
   "metadata": {},
   "outputs": [],
   "source": [
    "Update any elements"
   ]
  },
  {
   "cell_type": "code",
   "execution_count": 23,
   "id": "c9db3086-4841-4a04-a2aa-09c8137678fa",
   "metadata": {},
   "outputs": [
    {
     "name": "stdout",
     "output_type": "stream",
     "text": [
      "[[ 1  2  3  4]\n",
      " [ 5 66  7  8]]\n",
      "[[1 0 3 4]\n",
      " [5 0 7 8]]\n",
      "[[0 0 0 0]\n",
      " [5 0 7 8]]\n",
      "[[ 0  0 23  0]\n",
      " [ 5  0 55  8]]\n",
      "[[11 22 33 44]\n",
      " [ 5  0 55  8]]\n"
     ]
    }
   ],
   "source": [
    "a=np.array([[1,2,3,4],[5,6,7,8]])\n",
    "a[1,1]=66\n",
    "print(a)\n",
    "a[:,1]=0\n",
    "print(a)\n",
    "a[0,]=0\n",
    "print(a)\n",
    "a[:,2]=[23,55]\n",
    "print(a)\n",
    "a[0,:]=[11,22,33,44]\n",
    "print(a)"
   ]
  },
  {
   "cell_type": "markdown",
   "id": "9ce72e54-e800-4f9f-bb3e-dc3e80810aa9",
   "metadata": {},
   "source": [
    "Creating a rank of an Array"
   ]
  },
  {
   "cell_type": "code",
   "execution_count": 25,
   "id": "fb7c1575-3837-4aa3-b8a6-41216f879906",
   "metadata": {},
   "outputs": [
    {
     "name": "stdout",
     "output_type": "stream",
     "text": [
      "Array with Rank 1: \n",
      " [1 2 3]\n",
      "Array with Rank 2 or matrix of 2*4 \n",
      ":- [[1 2 3 4]\n",
      " [5 6 7 8]]\n"
     ]
    }
   ],
   "source": [
    "import numpy as np\n",
    "arr = np.array([1, 2, 3])\n",
    "print(\"Array with Rank 1: \\n\",arr)\n",
    "arr = np.array([[1,2,3,4],[5,6,7,8]])\n",
    "print(\"Array with Rank 2 or matrix of 2*4 \\n:-\",arr)"
   ]
  },
  {
   "cell_type": "code",
   "execution_count": null,
   "id": "1869ca04-1444-4e62-bfd7-5e4603f45fa4",
   "metadata": {},
   "outputs": [],
   "source": [
    "Printing one in any size of matrix"
   ]
  },
  {
   "cell_type": "code",
   "execution_count": 29,
   "id": "ae80eb5c-294a-40be-9104-18c5264446c4",
   "metadata": {},
   "outputs": [
    {
     "name": "stdout",
     "output_type": "stream",
     "text": [
      "[[1 1 1 1]\n",
      " [1 1 1 1]\n",
      " [1 1 1 1]]\n"
     ]
    }
   ],
   "source": [
    "#dtype(data type) = int means printing one in integer form\n",
    "import numpy as np\n",
    "a=np.ones((3,4),dtype=int)\n",
    "print(a)"
   ]
  },
  {
   "cell_type": "code",
   "execution_count": null,
   "id": "ecf22b2b-818b-4b36-a79e-cc05bc648d77",
   "metadata": {},
   "outputs": [],
   "source": [
    "Printing Zeros in any size of matrix "
   ]
  },
  {
   "cell_type": "code",
   "execution_count": 31,
   "id": "fe9bacdb-f6b5-4b52-9d8d-76dcce20253f",
   "metadata": {},
   "outputs": [
    {
     "name": "stdout",
     "output_type": "stream",
     "text": [
      "[[0 0 0 0]\n",
      " [0 0 0 0]\n",
      " [0 0 0 0]]\n"
     ]
    }
   ],
   "source": [
    "#dtype(data type) = int means printing zero in integer form\n",
    "a=np.zeros((3,4),dtype=int)\n",
    "print(a)"
   ]
  },
  {
   "cell_type": "code",
   "execution_count": null,
   "id": "e37d0144-f76e-41dc-a6b7-93af0d4a3dee",
   "metadata": {},
   "outputs": [],
   "source": [
    "Printing One in matrix without using dtype"
   ]
  },
  {
   "cell_type": "code",
   "execution_count": 33,
   "id": "92105129-ba17-41ad-91a0-fd5d199f7ac9",
   "metadata": {},
   "outputs": [
    {
     "name": "stdout",
     "output_type": "stream",
     "text": [
      "[[1. 1. 1. 1.]\n",
      " [1. 1. 1. 1.]\n",
      " [1. 1. 1. 1.]]\n"
     ]
    }
   ],
   "source": [
    "a=np.ones((3,4))\n",
    "print(a)"
   ]
  },
  {
   "cell_type": "code",
   "execution_count": null,
   "id": "543203b7-6dec-48c3-85ce-b0d77454f79d",
   "metadata": {},
   "outputs": [],
   "source": [
    "Printing zero in matrix without using dtype"
   ]
  },
  {
   "cell_type": "code",
   "execution_count": 35,
   "id": "cdfc8dcc-3777-40d7-8152-b4ae171902d6",
   "metadata": {},
   "outputs": [
    {
     "name": "stdout",
     "output_type": "stream",
     "text": [
      "[[0. 0. 0. 0.]\n",
      " [0. 0. 0. 0.]\n",
      " [0. 0. 0. 0.]]\n"
     ]
    }
   ],
   "source": [
    "a=np.zeros((3,4))\n",
    "print(a)"
   ]
  },
  {
   "cell_type": "code",
   "execution_count": 37,
   "id": "810d180c-052c-491d-9c53-6790188d44d5",
   "metadata": {},
   "outputs": [
    {
     "name": "stdout",
     "output_type": "stream",
     "text": [
      "[[False False False False]\n",
      " [False False False False]\n",
      " [False False False False]]\n"
     ]
    }
   ],
   "source": [
    "#printing Boolean (True or False) in matrix \n",
    "#0 for False \n",
    "a=np.zeros((3,4),dtype=bool)\n",
    "print(a)"
   ]
  },
  {
   "cell_type": "code",
   "execution_count": 39,
   "id": "488fdcc7-1506-4642-aed7-c74dff058bb2",
   "metadata": {},
   "outputs": [
    {
     "name": "stdout",
     "output_type": "stream",
     "text": [
      "[[ True  True  True  True]\n",
      " [ True  True  True  True]\n",
      " [ True  True  True  True]]\n"
     ]
    }
   ],
   "source": [
    "# 1 give True\n",
    "a=np.ones((3,4),dtype=bool)\n",
    "print(a)"
   ]
  },
  {
   "cell_type": "code",
   "execution_count": 41,
   "id": "38183f03-a379-45e5-bd64-404e90156ff1",
   "metadata": {},
   "outputs": [
    {
     "name": "stdout",
     "output_type": "stream",
     "text": [
      "[[8 8 8]\n",
      " [8 8 8]]\n"
     ]
    }
   ],
   "source": [
    "#The following code print 8 in whole matrix \n",
    "a=np.full((2,3),8)\n",
    "print(a)"
   ]
  },
  {
   "cell_type": "markdown",
   "id": "612a4073-194a-47eb-ae29-4bf6e05429fd",
   "metadata": {},
   "source": [
    "print string in whole matrix"
   ]
  },
  {
   "cell_type": "code",
   "execution_count": 43,
   "id": "17ca30fe-f965-4f16-8eb6-c44d4dd03dc4",
   "metadata": {},
   "outputs": [
    {
     "name": "stdout",
     "output_type": "stream",
     "text": [
      "[['Shruti' 'Shruti']\n",
      " ['Shruti' 'Shruti']]\n"
     ]
    }
   ],
   "source": [
    "a=np.full((2,2),'Shruti')\n",
    "print(a)"
   ]
  },
  {
   "cell_type": "code",
   "execution_count": null,
   "id": "8ee4dc81-1f99-4c96-8e86-53f6197a2612",
   "metadata": {},
   "outputs": [],
   "source": [
    "To Form a identity matrix"
   ]
  },
  {
   "cell_type": "code",
   "execution_count": 45,
   "id": "736c4396-595b-4511-9a1b-faf851caa692",
   "metadata": {},
   "outputs": [
    {
     "name": "stdout",
     "output_type": "stream",
     "text": [
      "[[1. 0. 0. 0. 0.]\n",
      " [0. 1. 0. 0. 0.]\n",
      " [0. 0. 1. 0. 0.]\n",
      " [0. 0. 0. 1. 0.]\n",
      " [0. 0. 0. 0. 1.]]\n"
     ]
    }
   ],
   "source": [
    "a=np.identity(5)\n",
    "print(a)"
   ]
  },
  {
   "cell_type": "markdown",
   "id": "56f3f8be-bcd8-455a-8811-0118b987c7cc",
   "metadata": {},
   "source": [
    "\"Arithmetic function on Numpy\"\n",
    "If you want to form an 1D array the you can use arange function\n",
    "The arange function print the numbers in array less than the last digit you written in the arange function"
   ]
  },
  {
   "cell_type": "code",
   "execution_count": 47,
   "id": "1ed93ce4-4c3f-471e-89f8-aef26c56b4bf",
   "metadata": {},
   "outputs": [
    {
     "name": "stdout",
     "output_type": "stream",
     "text": [
      "[ 1  2  3  4  5  6  7  8  9 10 11 12]\n"
     ]
    }
   ],
   "source": [
    "import numpy as  np\n",
    "ar=np.arange(1,13)\n",
    "print(ar)"
   ]
  },
  {
   "cell_type": "markdown",
   "id": "036539c5-74b0-46c9-9720-b5182084ea0b",
   "metadata": {},
   "source": [
    "Syntax of Linspace :- linespace(starting value,ending value,no.of total values)"
   ]
  },
  {
   "cell_type": "code",
   "execution_count": 49,
   "id": "cdb8c091-992b-4dd4-9fa5-7e9ca448d5bc",
   "metadata": {},
   "outputs": [
    {
     "name": "stdout",
     "output_type": "stream",
     "text": [
      "[1. 3. 5.]\n",
      "[1.         1.57142857 2.14285714 2.71428571 3.28571429 3.85714286\n",
      " 4.42857143 5.        ]\n"
     ]
    }
   ],
   "source": [
    "ar=np.linspace(1,5,3)\n",
    "print(ar)\n",
    "ar=np.linspace(1,5,8)\n",
    "print(ar)"
   ]
  },
  {
   "cell_type": "code",
   "execution_count": null,
   "id": "d902d297-cc01-44af-9150-3748c8b04987",
   "metadata": {},
   "outputs": [],
   "source": [
    "Reshape"
   ]
  },
  {
   "cell_type": "code",
   "execution_count": 51,
   "id": "4a683f1e-1a33-45a4-8453-27f0beef917e",
   "metadata": {},
   "outputs": [
    {
     "name": "stdout",
     "output_type": "stream",
     "text": [
      "[[ 0  1  2  3  4]\n",
      " [ 5  6  7  8  9]\n",
      " [10 11 12 13 14]\n",
      " [15 16 17 18 19]]\n",
      "[[ 0  5 10 15]\n",
      " [ 1  6 11 16]\n",
      " [ 2  7 12 17]\n",
      " [ 3  8 13 18]\n",
      " [ 4  9 14 19]]\n"
     ]
    }
   ],
   "source": [
    "ar=np.arange(0,20).reshape(4,5)\n",
    "print(ar)\n",
    "#To Transpose the matrix\n",
    "print(ar.transpose())"
   ]
  },
  {
   "cell_type": "markdown",
   "id": "1595061d-452e-4b47-acd6-9a0410911d85",
   "metadata": {},
   "source": [
    "Performing Arithmetic operations in array"
   ]
  },
  {
   "cell_type": "code",
   "execution_count": 53,
   "id": "9a32a471-ce99-44fc-a031-2def19b3a695",
   "metadata": {},
   "outputs": [
    {
     "name": "stdout",
     "output_type": "stream",
     "text": [
      "[1 2 3 4]\n",
      "[5 6 7 8]\n",
      "[3 4 5 6]\n"
     ]
    }
   ],
   "source": [
    "a=np.array([1,2,3,4])\n",
    "print(a)\n",
    "b=a+4\n",
    "print(b)\n",
    "c=b-2\n",
    "print(c)"
   ]
  },
  {
   "cell_type": "markdown",
   "id": "97ac9e41-4414-409a-891d-05ba87793b62",
   "metadata": {},
   "source": [
    "@ is used for matrix multiplication ."
   ]
  },
  {
   "cell_type": "code",
   "execution_count": 57,
   "id": "e28ff5f4-8f3a-4182-86c1-7717c71b84a7",
   "metadata": {},
   "outputs": [
    {
     "name": "stdout",
     "output_type": "stream",
     "text": [
      "[[1 2 3]\n",
      " [4 5 6]\n",
      " [7 8 9]]\n",
      "[[11 20 93]\n",
      " [44 55 66]\n",
      " [77 88 99]]\n",
      "[[ 330  394  522]\n",
      " [ 726  883 1296]\n",
      " [1122 1372 2070]]\n",
      "[[-10 -18 -90]\n",
      " [-40 -50 -60]\n",
      " [-70 -80 -90]]\n",
      "[[ 12  22  96]\n",
      " [ 48  60  72]\n",
      " [ 84  96 108]]\n",
      "[[0.09090909 0.1        0.03225806]\n",
      " [0.09090909 0.09090909 0.09090909]\n",
      " [0.09090909 0.09090909 0.09090909]]\n"
     ]
    }
   ],
   "source": [
    "a=np.arange(1,10).reshape(3,3)\n",
    "print(a)\n",
    "ar=np.array([[11,20,93],[44,55,66],[77,88,99]])\n",
    "print(ar)\n",
    "b=a@ar\n",
    "print(b)\n",
    "c=a-ar\n",
    "print(c)\n",
    "d=a+ar\n",
    "print(d)\n",
    "e=a/ar\n",
    "print(e)"
   ]
  },
  {
   "cell_type": "markdown",
   "id": "df88cf4e-fbd3-4ff2-a60c-0001df7dbc85",
   "metadata": {},
   "source": [
    "Finding Eigon Value of an array"
   ]
  },
  {
   "cell_type": "code",
   "execution_count": 61,
   "id": "ff730d5c-ca98-47ab-8b19-06d105a734cf",
   "metadata": {},
   "outputs": [
    {
     "data": {
      "text/plain": [
       "EigResult(eigenvalues=array([ 1.61168440e+01, -1.11684397e+00, -4.22209278e-16]), eigenvectors=array([[-0.23197069, -0.78583024,  0.40824829],\n",
       "       [-0.52532209, -0.08675134, -0.81649658],\n",
       "       [-0.8186735 ,  0.61232756,  0.40824829]]))"
      ]
     },
     "execution_count": 61,
     "metadata": {},
     "output_type": "execute_result"
    }
   ],
   "source": [
    "a=np.array([[1,2,3],[4,5,6],[7,8,9]])\n",
    "np.linalg.eig(a)"
   ]
  },
  {
   "cell_type": "code",
   "execution_count": null,
   "id": "afccff6f-d5c0-41c4-b1bd-71f929c4b145",
   "metadata": {},
   "outputs": [],
   "source": [
    "For finding determinant of an array"
   ]
  },
  {
   "cell_type": "code",
   "execution_count": 63,
   "id": "ec3240e9-a102-4656-bb91-4fa2d9c8a0f3",
   "metadata": {},
   "outputs": [
    {
     "data": {
      "text/plain": [
       "6.66133814775094e-16"
      ]
     },
     "execution_count": 63,
     "metadata": {},
     "output_type": "execute_result"
    }
   ],
   "source": [
    "a=np.array([[1,2,3],[4,5,6],[7,8,9]])\n",
    "np.linalg.det(a)"
   ]
  },
  {
   "cell_type": "code",
   "execution_count": 65,
   "id": "47dd2702-3633-4a1e-9f75-e67a968e1a4d",
   "metadata": {},
   "outputs": [
    {
     "name": "stdout",
     "output_type": "stream",
     "text": [
      "The Matrix:-\n",
      "[[1 2 3]\n",
      " [4 5 6]\n",
      " [7 8 9]]\n",
      "The Minimum value of the matrix is :- 1\n",
      "The Minimum value of column is:- [1 2 3]\n",
      "The Minimum value of row is:- [1 4 7]\n"
     ]
    }
   ],
   "source": [
    "#min is use to print the minimum value of any matrix\n",
    "#asix=0 is used to print the minimum value of column\n",
    "#axis=1 is used to print the minimum value of Row\n",
    "print(\"The Matrix:-\")\n",
    "a=np.array([[1,2,3],[4,5,6],[7,8,9]])\n",
    "print(a)\n",
    "print(\"The Minimum value of the matrix is :-\",a.min())\n",
    "print(\"The Minimum value of column is:-\",a.min(axis=0))\n",
    "print(\"The Minimum value of row is:-\",a.min(axis=1))"
   ]
  },
  {
   "cell_type": "code",
   "execution_count": 67,
   "id": "c63e9422-2664-4096-b6e0-8e3ce1a6f9c2",
   "metadata": {},
   "outputs": [
    {
     "name": "stdout",
     "output_type": "stream",
     "text": [
      "The Matrix:-\n",
      "[[1 2 3]\n",
      " [4 5 6]\n",
      " [7 8 9]]\n",
      "The Maximum value of the matrix is :- 9\n",
      "The Maximum value of column is:- [7 8 9]\n",
      "The Maximum value of row is:- [3 6 9]\n"
     ]
    }
   ],
   "source": [
    "#Max function is used to find the maximum value of any matrix\n",
    "print(\"The Matrix:-\")\n",
    "a=np.array([[1,2,3],[4,5,6],[7,8,9]])\n",
    "print(a)\n",
    "print(\"The Maximum value of the matrix is :-\",a.max())\n",
    "print(\"The Maximum value of column is:-\",a.max(axis=0))\n",
    "print(\"The Maximum value of row is:-\",a.max(axis=1))"
   ]
  },
  {
   "cell_type": "code",
   "execution_count": null,
   "id": "584f114c-8189-4c8a-8a10-98719352be3d",
   "metadata": {},
   "outputs": [],
   "source": [
    "To find Mean(average of the addition of no.)"
   ]
  },
  {
   "cell_type": "code",
   "execution_count": 73,
   "id": "090254a3-2371-41bb-b135-c9d9b2fe750e",
   "metadata": {},
   "outputs": [
    {
     "name": "stdout",
     "output_type": "stream",
     "text": [
      "5.0\n",
      "[[1.         1.41421356 1.73205081]\n",
      " [2.         2.23606798 2.44948974]\n",
      " [2.64575131 2.82842712 3.        ]]\n"
     ]
    }
   ],
   "source": [
    "print(np.mean(a))\n",
    "print(np.sqrt(a))"
   ]
  },
  {
   "cell_type": "code",
   "execution_count": 75,
   "id": "a4b7ceca-ced4-4d83-8eab-7cb4f326ab95",
   "metadata": {},
   "outputs": [
    {
     "name": "stdout",
     "output_type": "stream",
     "text": [
      "2.581988897471611\n",
      "[[0.         0.69314718 1.09861229]\n",
      " [1.38629436 1.60943791 1.79175947]\n",
      " [1.94591015 2.07944154 2.19722458]]\n"
     ]
    }
   ],
   "source": [
    "#To Find the Standard Deviation\n",
    "print(np.std(a))\n",
    "#To Find log \n",
    "print(np.log(a))"
   ]
  },
  {
   "cell_type": "code",
   "execution_count": null,
   "id": "78c24067-1871-449c-b87e-f7e270c7bfda",
   "metadata": {},
   "outputs": [],
   "source": [
    "To find the values of trignometic functions"
   ]
  },
  {
   "cell_type": "code",
   "execution_count": 79,
   "id": "78e7e239-d97c-4846-a638-c71f43f8ee3c",
   "metadata": {},
   "outputs": [
    {
     "name": "stdout",
     "output_type": "stream",
     "text": [
      "-0.8011526357338304\n",
      "0.0\n",
      "0.8939966636005579\n",
      "0.8509035245341184\n",
      "1.6197751905438615\n",
      "0.5253219888177297\n"
     ]
    }
   ],
   "source": [
    "print(np.sin(180))\n",
    "print(np.sin(0))\n",
    "print(np.sin(90))\n",
    "print(np.sin(45))\n",
    "print(np.tan(45))\n",
    "print(np.cos(45))"
   ]
  },
  {
   "cell_type": "code",
   "execution_count": null,
   "id": "06e040d9-1648-46b9-8cad-56f33a1ab180",
   "metadata": {},
   "outputs": [],
   "source": [
    "Plotting Graph"
   ]
  },
  {
   "cell_type": "code",
   "execution_count": 84,
   "id": "d1d300ef-865d-48b8-b67b-d063da587e02",
   "metadata": {},
   "outputs": [
    {
     "data": {
      "text/plain": [
       "[<matplotlib.lines.Line2D at 0x2ca01259190>]"
      ]
     },
     "execution_count": 84,
     "metadata": {},
     "output_type": "execute_result"
    },
    {
     "data": {
      "image/png": "[encoded data removed]",
      "text/plain": [
       "<Figure size 640x480 with 1 Axes>"
      ]
     },
     "metadata": {},
     "output_type": "display_data"
    }
   ],
   "source": [
    "x=np.arange(1,15)\n",
    "y=np.sin(x)\n",
    "import matplotlib.pyplot as plt\n",
    "plt.plot(x,y)"
   ]
  },
  {
   "cell_type": "markdown",
   "id": "9bb797dc-f72d-4ff2-99f1-d2f2f50bd1a5",
   "metadata": {},
   "source": [
    "Using Random Function as Numpy"
   ]
  },
  {
   "cell_type": "code",
   "execution_count": 86,
   "id": "4d51e55e-3ee7-4bfe-b148-a21f07a00c69",
   "metadata": {},
   "outputs": [
    {
     "name": "stdout",
     "output_type": "stream",
     "text": [
      "[0.65739481 0.48639493 0.63999024 0.5192289 ]\n",
      "[[1 2 1]\n",
      " [2 2 1]\n",
      " [1 2 1]]\n",
      "1\n"
     ]
    }
   ],
   "source": [
    "import numpy as np\n",
    "import random\n",
    "a=np.random.random(4)\n",
    "print(a)\n",
    "#The use of randint is to give an range\n",
    "a=np.random.randint(1,3,(3,3))\n",
    "print(a)\n",
    "a=np.random.randint(1,9)\n",
    "print(a)"
   ]
  },
  {
   "cell_type": "code",
   "execution_count": 88,
   "id": "aa0837e4-3541-4a15-9d5b-8e72fc65de8a",
   "metadata": {},
   "outputs": [
    {
     "data": {
      "text/plain": [
       "array([0.41858038, 0.55314018, 0.50741653, 0.74453576])"
      ]
     },
     "execution_count": 88,
     "metadata": {},
     "output_type": "execute_result"
    }
   ],
   "source": [
    "import numpy as np\n",
    "import random \n",
    "np.random.random(4)"
   ]
  },
  {
   "cell_type": "code",
   "execution_count": 90,
   "id": "35df0dc5-7676-4342-b1ce-8ce9ad370117",
   "metadata": {},
   "outputs": [
    {
     "data": {
      "text/plain": [
       "array([[0.86608532, 0.52059999, 0.36363589],\n",
       "       [0.2089095 , 0.04608979, 0.85886981],\n",
       "       [0.76168851, 0.35123507, 0.88281013]])"
      ]
     },
     "execution_count": 90,
     "metadata": {},
     "output_type": "execute_result"
    }
   ],
   "source": [
    "np.random.random((3,3))"
   ]
  },
  {
   "cell_type": "code",
   "execution_count": 92,
   "id": "2d0e53b9-c5c1-41b9-8a55-e29659e50d6e",
   "metadata": {},
   "outputs": [
    {
     "data": {
      "text/plain": [
       "array([[3, 1, 4, 4],\n",
       "       [5, 3, 2, 3],\n",
       "       [1, 5, 2, 2],\n",
       "       [1, 4, 5, 2]])"
      ]
     },
     "execution_count": 92,
     "metadata": {},
     "output_type": "execute_result"
    }
   ],
   "source": [
    "np.random.randint(1,6,(4,4))"
   ]
  },
  {
   "cell_type": "code",
   "execution_count": null,
   "id": "7bae7ea7-2ca2-40f3-8a23-fefb5b0aa977",
   "metadata": {},
   "outputs": [],
   "source": [
    "For 3 matrix of 4 into 4 "
   ]
  },
  {
   "cell_type": "code",
   "execution_count": 94,
   "id": "7ec49b44-a552-4e51-bcb3-f5ba45e47f0a",
   "metadata": {},
   "outputs": [
    {
     "data": {
      "text/plain": [
       "array([[[2, 2, 1, 1],\n",
       "        [2, 4, 1, 4],\n",
       "        [1, 4, 3, 2],\n",
       "        [3, 5, 2, 5]],\n",
       "\n",
       "       [[1, 2, 4, 4],\n",
       "        [5, 4, 4, 2],\n",
       "        [4, 1, 4, 4],\n",
       "        [3, 3, 3, 2]],\n",
       "\n",
       "       [[5, 1, 2, 3],\n",
       "        [3, 5, 2, 4],\n",
       "        [1, 2, 1, 2],\n",
       "        [4, 1, 4, 5]]])"
      ]
     },
     "execution_count": 94,
     "metadata": {},
     "output_type": "execute_result"
    }
   ],
   "source": [
    "np.random.randint(1,6,(3,4,4))"
   ]
  },
  {
   "cell_type": "code",
   "execution_count": 96,
   "id": "54b2e769-56f5-41cc-a5a9-d67d66867de0",
   "metadata": {},
   "outputs": [
    {
     "data": {
      "text/plain": [
       "1"
      ]
     },
     "execution_count": 96,
     "metadata": {},
     "output_type": "execute_result"
    }
   ],
   "source": [
    "x=[1,2,3,4,5]\n",
    "np.random.choice(x)"
   ]
  },
  {
   "cell_type": "code",
   "execution_count": null,
   "id": "789c235e-f042-425f-a322-18e7695faaec",
   "metadata": {},
   "outputs": [],
   "source": [
    "String operation"
   ]
  },
  {
   "cell_type": "code",
   "execution_count": 98,
   "id": "21701f95-b5bf-45f2-b7c2-290f553eccc1",
   "metadata": {},
   "outputs": [
    {
     "data": {
      "text/plain": [
       "array('My name is Shruti', dtype='<U17')"
      ]
     },
     "execution_count": 98,
     "metadata": {},
     "output_type": "execute_result"
    }
   ],
   "source": [
    "import numpy as np\n",
    "str1=\"My name is \"\n",
    "str2=\"Shruti\"\n",
    "np.char.add(str1,str2)"
   ]
  },
  {
   "cell_type": "code",
   "execution_count": 100,
   "id": "7b31a837-37d6-4c4b-a134-3a137e8eed24",
   "metadata": {},
   "outputs": [
    {
     "data": {
      "text/plain": [
       "array('MY NAME IS ', dtype='<U11')"
      ]
     },
     "execution_count": 100,
     "metadata": {},
     "output_type": "execute_result"
    }
   ],
   "source": [
    "#for upper case\n",
    "np.char.upper(str1)"
   ]
  },
  {
   "cell_type": "code",
   "execution_count": 102,
   "id": "1286de5f-2da8-4633-9878-64e049691593",
   "metadata": {},
   "outputs": [
    {
     "data": {
      "text/plain": [
       "array('shruti', dtype='<U6')"
      ]
     },
     "execution_count": 102,
     "metadata": {},
     "output_type": "execute_result"
    }
   ],
   "source": [
    "#for lower case\n",
    "np.char.lower(str2)"
   ]
  },
  {
   "cell_type": "markdown",
   "id": "be09da33-75b1-484c-aa79-24f08346cf6c",
   "metadata": {},
   "source": [
    "for center string"
   ]
  },
  {
   "cell_type": "code",
   "execution_count": 104,
   "id": "72b05a8c-40c9-4a6c-8a22-9572994bce8d",
   "metadata": {},
   "outputs": [
    {
     "data": {
      "text/plain": [
       "array('               My name is                 ', dtype='<U42')"
      ]
     },
     "execution_count": 104,
     "metadata": {},
     "output_type": "execute_result"
    }
   ],
   "source": [
    "np.char.center(str1,42)"
   ]
  },
  {
   "cell_type": "markdown",
   "id": "a216c97b-1472-419a-af93-dcba9694b825",
   "metadata": {},
   "source": [
    "for filling spaces with star"
   ]
  },
  {
   "cell_type": "code",
   "execution_count": 114,
   "id": "b809e6aa-2b66-4884-888e-ea124be83472",
   "metadata": {},
   "outputs": [
    {
     "data": {
      "text/plain": [
       "array('********Shruti********', dtype='<U22')"
      ]
     },
     "execution_count": 114,
     "metadata": {},
     "output_type": "execute_result"
    }
   ],
   "source": [
    "str2=\"Shruti\"\n",
    "np.char.center(str2,22,fillchar=\"*\")"
   ]
  },
  {
   "cell_type": "markdown",
   "id": "68bbb07d-99a6-4500-b129-2ccb8c2c23ec",
   "metadata": {},
   "source": [
    "for spliting the string "
   ]
  },
  {
   "cell_type": "code",
   "execution_count": 108,
   "id": "5ca745d6-a43b-4ba4-b730-4b8b6414652a",
   "metadata": {},
   "outputs": [
    {
     "data": {
      "text/plain": [
       "array(list(['My', 'name', 'is']), dtype=object)"
      ]
     },
     "execution_count": 108,
     "metadata": {},
     "output_type": "execute_result"
    }
   ],
   "source": [
    "np.char.split(str1)"
   ]
  },
  {
   "cell_type": "markdown",
   "id": "37a801c8-dcb2-4ec0-a8ff-c0afcafd8f6b",
   "metadata": {},
   "source": [
    "for joining string with any character"
   ]
  },
  {
   "cell_type": "code",
   "execution_count": 110,
   "id": "1ae4dfbf-cf46-4d47-8715-8b8fc983a593",
   "metadata": {},
   "outputs": [
    {
     "data": {
      "text/plain": [
       "array(['d:m:y', 'a/b/c'], dtype='<U5')"
      ]
     },
     "execution_count": 110,
     "metadata": {},
     "output_type": "execute_result"
    }
   ],
   "source": [
    "str1=\"dmy\"\n",
    "str2=\"abc\"\n",
    "np.char.join([\":\",\"/\"],[str1,str2])"
   ]
  }
 ],
 "metadata": {
  "kernelspec": {
   "display_name": "Python 3 (ipykernel)",
   "language": "python",
   "name": "python3"
  },
  "language_info": {
   "codemirror_mode": {
    "name": "ipython",
    "version": 3
   },
   "file_extension": ".py",
   "mimetype": "text/x-python",
   "name": "python",
   "nbconvert_exporter": "python",
   "pygments_lexer": "ipython3",
   "version": "3.12.4"
  }
 },
 "nbformat": 4,
 "nbformat_minor": 5
}
